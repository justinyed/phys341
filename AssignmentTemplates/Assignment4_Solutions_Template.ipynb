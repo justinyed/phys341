{
 "cells": [
  {
   "cell_type": "markdown",
   "metadata": {},
   "source": [
    "# Assignment 4 Solutions\n",
    "\n",
    "In performing a two-sample t-test, there are two distinct situations to consider:\n",
    "\n",
    "1.  The variances of the two samples are equal to one another (i.e. we are sampling from the same population).\n",
    "2.  The variances of the two samples are not equal to one another (i.e. we are sampling from two different populations).\n",
    "\n",
    "For this assignment, the textbook assumes always that situation 2 is the case!!!!!\n",
    "\n",
    "In these instances, we calculate the standard error in the mean (SEM) and the combined number of degrees of freedom as follows:\n",
    "\n",
    "$SEM = \\sqrt{\\frac{s_1^2}{n_1} + \\frac{s_2^2}{n_2}}$\n",
    "\n",
    "$df = \\frac{ \\left( \\frac{s_1^2}{n_1} + \\frac{s_2^2}{n_2}    \\right)^2 }{\\frac{ \\left(\\frac{s_1^2}{n_1}\\right)^2   }{n_1-1} + \\frac{ \\left(\\frac{s_2^2}{n_2}\\right)^2   }{n_2-1}}$"
   ]
  },
  {
   "cell_type": "code",
   "execution_count": 54,
   "metadata": {},
   "outputs": [],
   "source": [
    "import numpy as np\n",
    "import scipy.stats as stats\n",
    "import matplotlib.pyplot as plt\n",
    "\n",
    "def sem_neq(n1,n2,s1,s2):\n",
    "    sm = np.sqrt(s1**2/n1+s2**2/n2)\n",
    "    return float(sm)\n",
    "\n",
    "def ndof_neq(n1,n2,s1,s2):\n",
    "    v1 = s1**2/n1\n",
    "    v2 = s2**2/n2\n",
    "    dof = (v1+v2)**2/(v1**2/(n1-1)+v2**2/(n2-1))\n",
    "    return int(dof)\n",
    "\n",
    "def sem_eq(n1,n2,s1,s2):\n",
    "    sp = np.sqrt(((n1-1)*s1**2+(n2-1)*s2**2)/(n1+n2-2))\n",
    "    sm = sp*np.sqrt(1.0/n1+1.0/n2)\n",
    "    return float(sm)\n",
    "\n",
    "def ndof_eq(n1,n2,s1,s2):\n",
    "    dof = n2+n1-2\n",
    "    return int(dof)"
   ]
  },
  {
   "cell_type": "markdown",
   "metadata": {},
   "source": [
    "# Question 1"
   ]
  },
  {
   "cell_type": "markdown",
   "metadata": {},
   "source": [
    "Determine the number of degrees of freedom for the two-sample t test or CI in each of the following situations. \n",
    "(Exact integer answers required.)\n",
    "\n",
    "(a) m = 10, n = 13, s1 = 4.8, s2 = 5.7\n",
    "\n",
    "\n",
    "(b) m = 14, n = 23, s1 = 5.1, s2 = 5.8\n",
    "\n",
    "\n",
    "(c) m = 6, n = 7, s1 = 2.3, s2 = 6.2\n",
    "\n",
    "\n",
    "(d) m = 10, n = 23, s1 = 4.1, s2 = 6.6"
   ]
  },
  {
   "cell_type": "code",
   "execution_count": 55,
   "metadata": {
    "tags": []
   },
   "outputs": [
    {
     "output_type": "stream",
     "name": "stdout",
     "text": "11\n8\n12\n28\n"
    }
   ],
   "source": [
    "# (a)\n",
    "n1, n2, s1, s2 = 6, 8, 5, 6.4\n",
    "print(ndof_neq(n1,n2,s1,s2))\n",
    "\n",
    "# (b)\n",
    "n1, n2, s1, s2 = 6, 22, 4.9, 5.5\n",
    "print(ndof_neq(n1,n2,s1,s2))\n",
    "\n",
    "# (c)\n",
    "n1, n2, s1, s2 = 8, 11, 2, 6.4\n",
    "print(ndof_neq(n1,n2,s1,s2))\n",
    "\n",
    "# (d)\n",
    "n1, n2, s1, s2 = 10, 22, 3.7, 6.5\n",
    "print(ndof_neq(n1,n2,s1,s2))\n"
   ]
  },
  {
   "source": [
    "# Question 2"
   ],
   "cell_type": "markdown",
   "metadata": {}
  },
  {
   "source": [
    "Let mu1 and mu2 denote true average densities for two different types of brick. \n",
    "\n",
    "Assuming normality of the two density distributions, test $H_o$: mu1 – mu2 = 0 versus $H_a$: mu1 – mu2 $\\neq$ 0 using the following data: m = 6, x = 23.56, s1 = 0.169, n = 5, y = 20.66, and s2 = 0.223. \n",
    "\n",
    "(Use α = 0.05. Give ν to exact integer and t to 2 decimal places.)"
   ],
   "cell_type": "markdown",
   "metadata": {}
  },
  {
   "cell_type": "code",
   "execution_count": 56,
   "metadata": {
    "tags": []
   },
   "outputs": [
    {
     "output_type": "stream",
     "name": "stdout",
     "text": "Degrees of Freedom = 7\nT value = 23.21\nP-Value = 0.0000000\nT Critical = 1.895\nReject the null hypothesis ... P-value is less than alpha\nPython stats package result (unequal variances):\nT value = 23.21\nP-Value = 0.000000\n"
    }
   ],
   "source": [
    "n1 = 6\n",
    "xbar1 = 23.56\n",
    "s1 = 0.169\n",
    "\n",
    "n2 = 5\n",
    "xbar2 = 20.66\n",
    "s2 = 0.233\n",
    "\n",
    "alpha = 0.05\n",
    "\n",
    "df = ndof_neq(n1,n2,s1,s2)\n",
    "sm = sem_neq(n1,n2,s1,s2)\n",
    "\n",
    "tvalue = (xbar1 - xbar2) / sm\n",
    "\n",
    "print(\"Degrees of Freedom = %d\" % (df))\n",
    "print (\"T value = %0.2f\" % tvalue)\n",
    "\n",
    "tdist = stats.t(df)\n",
    "pvalue = tdist.cdf(-np.abs(tvalue))\n",
    "tcritical = tdist.ppf(1 - alpha)\n",
    "\n",
    "print(\"P-Value = %0.7f\" % pvalue)\n",
    "print (\"T Critical = %0.3f\" % tcritical)\n",
    "\n",
    "if (pvalue < alpha):\n",
    "    print (\"Reject the null hypothesis ... P-value is less than alpha\")\n",
    "else:\n",
    "    print (\"Fail to reject the null hypothesis ... P-value is greater than alpha\")\n",
    "\n",
    "\n",
    "    print()\n",
    "print(\"Python stats package result (unequal variances):\")\n",
    "t, pVal = stats.ttest_ind_from_stats(xbar1,s1,n1,xbar2,s2,n2,equal_var=False)\n",
    "print (\"T value = %0.2f\" % t)\n",
    "print(\"P-Value = %0.6f\" % pVal)"
   ]
  },
  {
   "cell_type": "markdown",
   "metadata": {},
   "source": [
    "# Question 3\n",
    "\n",
    "Quantitative noninvasive techniques are needed for routinely assessing symptoms of peripheral neuropathies, such as carpal tunnel syndrome (CTS). An article reported on a test that involved sensing a tiny gap in an otherwise smooth surface by probing with a finger; this functionally resembles many work-related tactile activities, such as detecting scratches or surface defects. When finger probing was not allowed, the sample average gap detection threshold for m = 8 normal subjects was 1.8 mm, and the sample standard deviation was 0.49; for n = 12 CTS subjects, the sample mean and sample standard deviation were 2.52 and 0.85, respectively. Does this data suggest that the true average gap detection threshold for CTS subjects exceeds that for normal subjects? State and test the relevant hypotheses using a significance level of .01. (Give answers accurate to 2 decimal places.)"
   ]
  },
  {
   "cell_type": "code",
   "execution_count": 57,
   "metadata": {
    "tags": []
   },
   "outputs": [
    {
     "output_type": "stream",
     "name": "stdout",
     "text": "Degrees of Freedom = 14\nT value = 2.67\nP-Value = 0.009081\nT Critical Values = -2.98, 2.98\nReject the null hypothesis ... P-value is less than alpha\nDegrees of Freedom = 14\nT value = 2.67\nFail to reject the null hypothesis ... P-value is greater than alpha\n"
    }
   ],
   "source": [
    "n1 = 7\n",
    "xbar1 = 1.7\n",
    "s1 = 0.52\n",
    "\n",
    "n2 = 10\n",
    "xbar2 = 2.57\n",
    "s2 = 0.82\n",
    "\n",
    "\n",
    "alpha = 0.01\n",
    "\n",
    "df = ndof_neq(n1,n2,s1,s2)\n",
    "sm = sem_neq(n1,n2,s1,s2)\n",
    "\n",
    "tvalue = (xbar2 - xbar1) / sm\n",
    "\n",
    "print(\"Degrees of Freedom = %d\" % (df))\n",
    "print (\"T value = %0.2f\" % tvalue)\n",
    "\n",
    "tdist = stats.t(df)\n",
    "\n",
    "pvalue = tdist.cdf(-np.abs(tvalue))\n",
    "\n",
    "tlow = tdist.ppf(alpha/2)\n",
    "thigh = tdist.ppf(1 - alpha/2)\n",
    "\n",
    "print(\"P-Value = %0.6f\" % pvalue)\n",
    "print (\"T Critical Values = %0.2f, %0.2f\" % (tlow,thigh))\n",
    "\n",
    "if (pvalue < alpha):\n",
    "    print (\"Reject the null hypothesis ... P-value is less than alpha\")\n",
    "else:\n",
    "    print (\"Fail to reject the null hypothesis ... P-value is greater than alpha\")\n",
    "\n",
    "df = ndof_neq(n1,n2,s1,s2)\n",
    "sm = sem_neq(n1,n2,s1,s2)\n",
    "\n",
    "tvalue = (xbar2 - xbar1) / sm\n",
    "\n",
    "print(\"Degrees of Freedom = %d\" % (df))\n",
    "print (\"T value = %0.2f\" % tvalue)\n",
    "\n",
    "tdist = stats.t(df)\n",
    "\n",
    "pvalue = 2.0*tdist.cdf(-np.abs(tvalue))\n",
    "\n",
    "tlow = tdist.ppf(alpha/2)\n",
    "thigh = tdist.ppf(1 - alpha/2)\n",
    "\n",
    "if (pvalue < alpha):\n",
    "    print (\"Reject the null hypothesis ... P-value is less than alpha\")\n",
    "else:\n",
    "    print (\"Fail to reject the null hypothesis ... P-value is greater than alpha\")\n"
   ]
  },
  {
   "cell_type": "markdown",
   "metadata": {},
   "source": [
    "# Question 4\n",
    "\n",
    "The slant shear test is widely accepted for evaluating the bond of resinous repair materials to concrete; it utilizes cylinder specimens made of two identical halves bonded at 30°. For 12 specimens prepared using wire-brushing, the sample mean shear strength (N/mm2) and sample standard deviation were 18.23 and 1.48, respectively, whereas for 12 hand-chiseled specimens, the corresponding values were 23.47 and 4.01. Does the true average strength appear to be different for the two methods of surface preparation? Test the relevant hypotheses using a significance level of .05. (Give ν to exact integer and t to 2 decimal places.)"
   ]
  },
  {
   "cell_type": "code",
   "execution_count": 58,
   "metadata": {
    "tags": []
   },
   "outputs": [
    {
     "output_type": "stream",
     "name": "stdout",
     "text": "Degrees of Freedom = 15\nT value = 4.09\nP-Value = 0.000963\nT Critical Values = -2.13, 2.13\nReject the null hypothesis ... P-value is less than alpha\n\nPython stats package result (unequal variances):\nT value = -4.09\nP-Value = 0.000938\nDegrees of Freedom = 22\nT value = -4.09\nP-Value = 0.000483\nT Critical Values = -2.07, 2.07\nReject the null hypothesis ... P-value is less than alpha\n\nPython stats package result (unequal variances):\nT value = -4.09\nP-Value = 0.000938\n"
    }
   ],
   "source": [
    "n1 = 12\n",
    "xbar1 = 18.59\n",
    "s1 = 1.78\n",
    "\n",
    "n2 = 12\n",
    "xbar2 = 23.75\n",
    "s2 = 3.99\n",
    "\n",
    "alpha = 0.05\n",
    "\n",
    "df = ndof_neq(n1,n2,s1,s2)\n",
    "sm = sem_neq(n1,n2,s1,s2)\n",
    "\n",
    "tvalue = (xbar2 - xbar1) / sm\n",
    "\n",
    "print(\"Degrees of Freedom = %d\" % (df))\n",
    "print (\"T value = %0.2f\" % tvalue)\n",
    "\n",
    "tdist = stats.t(df)\n",
    "\n",
    "pvalue = 2.0*tdist.cdf(-np.abs(tvalue))\n",
    "\n",
    "tlow = tdist.ppf(alpha/2)\n",
    "thigh = tdist.ppf(1 - alpha/2)\n",
    "\n",
    "print(\"P-Value = %0.6f\" % pvalue)\n",
    "print (\"T Critical Values = %0.2f, %0.2f\" % (tlow,thigh))\n",
    "\n",
    "if (pvalue < alpha):\n",
    "    print (\"Reject the null hypothesis ... P-value is less than alpha\")\n",
    "else:\n",
    "    print (\"Fail to reject the null hypothesis ... P-value is greater than alpha\")\n",
    "\n",
    "# Python stats package\n",
    "print()\n",
    "print(\"Python stats package result (unequal variances):\")\n",
    "t, pVal = stats.ttest_ind_from_stats(xbar1,s1,n1,xbar2,s2,n2,equal_var=False)\n",
    "print (\"T value = %0.2f\" % t)\n",
    "print(\"P-Value = %0.6f\" % pVal)\n",
    "\n",
    "# Now, let us compare with the equal variance assumption\n",
    "df = ndof_eq(n1,n2,s1,s2)\n",
    "sm = sem_eq(n1,n2,s1,s2)\n",
    "\n",
    "tvalue = (xbar1 - xbar2) / sm\n",
    "\n",
    "print(\"Degrees of Freedom = %d\" % (df))\n",
    "print (\"T value = %0.2f\" % tvalue)\n",
    "\n",
    "tdist = stats.t(df)\n",
    "\n",
    "pvalue = 2.0*tdist.cdf(-np.abs(tvalue))\n",
    "\n",
    "tlow = tdist.ppf(alpha/2)\n",
    "thigh = tdist.ppf(1 - alpha/2)\n",
    "\n",
    "print(\"P-Value = %0.6f\" % pvalue)\n",
    "print (\"T Critical Values = %0.2f, %0.2f\" % (tlow,thigh))\n",
    "\n",
    "\n",
    "\n",
    "if (pvalue < alpha):\n",
    "    print (\"Reject the null hypothesis ... P-value is less than alpha\")\n",
    "else:\n",
    "    print (\"Fail to reject the null hypothesis ... P-value is greater than alpha\")\n",
    "\n",
    "\n",
    "print()\n",
    "print(\"Python stats package result (unequal variances):\")\n",
    "t, pVal = stats.ttest_ind_from_stats(xbar1,s1,n1,xbar2,s2,n2,equal_var=False)\n",
    "print (\"T value = %0.2f\" % t)\n",
    "print(\"P-Value = %0.6f\" % pVal)"
   ]
  },
  {
   "cell_type": "code",
   "execution_count": null,
   "metadata": {},
   "outputs": [],
   "source": []
  },
  {
   "cell_type": "markdown",
   "metadata": {},
   "source": [
    "# Question 5\n",
    "\n",
    "Consider the accompanying data on breaking load (kg/25 mm width) for various fabrics in both an unabraded condition and an abraded condition. Use the paired t test to test Ho: μD = 0 versus Ha: μD > 0 at significance level .01. (Give answers accurate to 2 decimal places.)"
   ]
  },
  {
   "cell_type": "code",
   "execution_count": 59,
   "metadata": {
    "tags": []
   },
   "outputs": [
    {
     "output_type": "stream",
     "name": "stdout",
     "text": "Critical t-value = 3.00\nT-Value = 1.51, P-Value = 0.349\nFail to reject the null hypothesis ... P-value is greater than alpha\n"
    }
   ],
   "source": [
    "u = np.array([31.6, 55.0, 56.5, 38.7, 41.1, 48.8, 27.0, 49.8])\n",
    "a = np.array([28.7, 20.0, 48.9, 34.5, 39.2, 52.5, 26.9, 46.5])\n",
    "\n",
    "diff = u - a\n",
    "mu = 0\n",
    "alpha = 0.01\n",
    "\n",
    "df = len(diff) - 1\n",
    "tdist = stats.t(df)\n",
    "\n",
    "tcritical = tdist.ppf(1-alpha)\n",
    "print (\"Critical t-value = %0.2f\" % tcritical)\n",
    "\n",
    "t, pVal = stats.ttest_1samp(diff, mu)\n",
    "print (\"T-Value = %0.2f, P-Value = %0.3f\" % (t,2*pVal))\n",
    "if (pVal < alpha):\n",
    "    print (\"Reject the null hypothesis ... P-value is less than alpha\")\n",
    "else:\n",
    "    print (\"Fail to reject the null hypothesis ... P-value is greater than alpha\")"
   ]
  },
  {
   "cell_type": "markdown",
   "metadata": {},
   "source": [
    "# Question 6\n",
    "\n",
    "Data on the modulus of elasticity obtained 1 minute after loading in a certain configuration and 4 weeks after loading for the same lumber specimens is presented here.\n",
    "\n",
    "Calculate and interpret an upper confidence bound for the true average difference between 1-minute modulus and 4-week modulus; first check the plausibility of any necessary assumptions. (Use α = 0.05. Round your answer to the nearest whole number.)\n",
    "\n",
    "The data for this question is stored in a local file called A4Q6.csv"
   ]
  },
  {
   "cell_type": "code",
   "execution_count": 60,
   "metadata": {},
   "outputs": [
    {
     "output_type": "execute_result",
     "data": {
      "text/plain": "   Observation  1 min  4 weeks  Difference\n0            1  10424     9352        1072\n1            2  16620    13250        3370\n2            3  17300    14720        2580\n3            4  15137    12386        2751\n4            5  12970    10120        2850",
      "text/html": "<div>\n<style scoped>\n    .dataframe tbody tr th:only-of-type {\n        vertical-align: middle;\n    }\n\n    .dataframe tbody tr th {\n        vertical-align: top;\n    }\n\n    .dataframe thead th {\n        text-align: right;\n    }\n</style>\n<table border=\"1\" class=\"dataframe\">\n  <thead>\n    <tr style=\"text-align: right;\">\n      <th></th>\n      <th>Observation</th>\n      <th>1 min</th>\n      <th>4 weeks</th>\n      <th>Difference</th>\n    </tr>\n  </thead>\n  <tbody>\n    <tr>\n      <th>0</th>\n      <td>1</td>\n      <td>10424</td>\n      <td>9352</td>\n      <td>1072</td>\n    </tr>\n    <tr>\n      <th>1</th>\n      <td>2</td>\n      <td>16620</td>\n      <td>13250</td>\n      <td>3370</td>\n    </tr>\n    <tr>\n      <th>2</th>\n      <td>3</td>\n      <td>17300</td>\n      <td>14720</td>\n      <td>2580</td>\n    </tr>\n    <tr>\n      <th>3</th>\n      <td>4</td>\n      <td>15137</td>\n      <td>12386</td>\n      <td>2751</td>\n    </tr>\n    <tr>\n      <th>4</th>\n      <td>5</td>\n      <td>12970</td>\n      <td>10120</td>\n      <td>2850</td>\n    </tr>\n  </tbody>\n</table>\n</div>"
     },
     "metadata": {},
     "execution_count": 60
    }
   ],
   "source": [
    "import pandas as pd\n",
    "\n",
    "df = pd.read_csv('/home/justin/git/phys341/AssignmentTemplates/q6.csv')\n",
    "df.head()"
   ]
  },
  {
   "cell_type": "code",
   "execution_count": 61,
   "metadata": {
    "tags": []
   },
   "outputs": [
    {
     "output_type": "stream",
     "name": "stdout",
     "text": "2774\n"
    }
   ],
   "source": [
    "diff = df.Difference\n",
    "xbar = diff.mean()\n",
    "sem = stats.sem(diff)\n",
    "dof = len(diff)-1\n",
    "\n",
    "alpha = 0.05\n",
    "cl = 1 - 2*alpha\n",
    "\n",
    "c_interval = stats.t.interval(cl,dof,loc=xbar,scale=sem)\n",
    "print (\"%0.0f\" % c_interval[1])"
   ]
  },
  {
   "cell_type": "markdown",
   "metadata": {},
   "source": [
    "# Question 7\n",
    "\n",
    "Give as much information as you can about the P-value of the F test in each of the following situations. (Give answers accurate to 3 decimal places.)\n",
    "\n",
    "(a) ν1 = 5, ν2 = 10, upper-tailed test, f = 2.52\n",
    "\n",
    "(b) ν1 = 5, ν2 = 10, upper-tailed test, f = 5.64 \n",
    "\n",
    "(c) ν1 = 5, ν2 = 10, two-tailed test, f = 5.64 \n",
    "\n",
    "(d) ν1 = 5, ν2 = 10, lower-tailed test, f = 5.64\n",
    "\n",
    "(e) ν1 = 40, ν2 = 20, upper-tailed test, f = 3.86"
   ]
  },
  {
   "cell_type": "code",
   "execution_count": 62,
   "metadata": {},
   "outputs": [],
   "source": [
    "def fpvalue(fvalue,dof1,dof2,test):\n",
    "    fdist = stats.f(dof1,dof2)\n",
    "\n",
    "    if (fvalue > 1):\n",
    "        if test == \"upper\":\n",
    "            pvalue = (1-fdist.cdf(fvalue))\n",
    "        if test == \"two\":\n",
    "            pvalue = 2.0*(1-fdist.cdf(fvalue))\n",
    "        if test == \"lower\":\n",
    "            pvalue = fdist.cdf(fvalue)\n",
    "    else:\n",
    "        if test == \"upper\":\n",
    "            pvalue = fdist.cdf(fvalue)\n",
    "        if test == \"two\":\n",
    "            pvalue = 2.0*fdist.cdf(fvalue)\n",
    "        if test == \"lower\":\n",
    "            pvalue = (1-fdist.cdf(fvalue))\n",
    "            \n",
    "    print (\"Pvalue = %0.3f\" % (pvalue))"
   ]
  },
  {
   "cell_type": "code",
   "execution_count": 63,
   "metadata": {
    "tags": []
   },
   "outputs": [
    {
     "output_type": "stream",
     "name": "stdout",
     "text": "Pvalue = 0.050\nPvalue = 0.001\nPvalue = 0.100\nPvalue = 0.990\nPvalue = 0.001\n"
    }
   ],
   "source": [
    "fpvalue(fvalue= 3.33, dof1= 5, dof2= 10, test= \"upper\")\n",
    "\n",
    "fpvalue(fvalue= 10.48, dof1= 5, dof2= 10, test= \"upper\")\n",
    "\n",
    "fpvalue(fvalue= 3.33, dof1= 5, dof2= 10, test= \"two\")\n",
    "\n",
    "fpvalue(fvalue= 5.64, dof1= 5, dof2= 10, test= \"lower\")\n",
    "\n",
    "fpvalue(fvalue= 3.86, dof1= 40, dof2= 20, test= \"upper\")\n",
    "\n",
    "\n"
   ]
  },
  {
   "cell_type": "markdown",
   "metadata": {},
   "source": [
    "# Question 8\n",
    "\n",
    "As the population ages, there is increasing concern about accident-related injuries to the elderly. An article reported on an experiment in which the maximum lean angle—the furthest a subject is able to lean and still recover in one step—was determined for both a sample of younger females (21-29 years) and a sample of older females (67-81 years). The following observations are consistent with summary data given in the article.\n",
    "\n",
    "YF:\t32,\t29,\t31,\t26,\t29,\t36,\t29,\t27,\t35,\t26\n",
    "\n",
    "OF:\t17,\t13,\t21,\t22,\t22\n",
    "\n",
    "Carry out a test at significance level .10 to see whether the population standard deviations for the two age groups are different (normal probability plots support the necessary normality assumption). (Give answer accurate to 2 decimal places.)"
   ]
  },
  {
   "cell_type": "code",
   "execution_count": 64,
   "metadata": {},
   "outputs": [],
   "source": [
    "yf = np.array([\t34,\t26,\t32,\t36,\t36,\t32,\t35,\t35,\t36,\t31])\n",
    "of = np.array([17,\t15,\t22,\t12,\t15])"
   ]
  },
  {
   "cell_type": "code",
   "execution_count": 65,
   "metadata": {
    "tags": []
   },
   "outputs": [
    {
     "output_type": "stream",
     "name": "stdout",
     "text": "0.7307380373073804\n"
    }
   ],
   "source": [
    "n1 = len(yf)\n",
    "n2 = len(of)\n",
    "\n",
    "dof1 = n1-1\n",
    "dof2 = n2-1\n",
    "\n",
    "s1 = yf.std(ddof=1)\n",
    "s2 = of.std(ddof=1)\n",
    "\n",
    "xbar1 = yf.mean()\n",
    "xbar2 = of.mean()\n",
    "\n",
    "fvalue = s1**2/s2**2\n",
    "\n",
    "print(fvalue)"
   ]
  },
  {
   "cell_type": "code",
   "execution_count": null,
   "metadata": {},
   "outputs": [],
   "source": []
  }
 ],
 "metadata": {
  "kernelspec": {
   "display_name": "Python 3",
   "language": "python",
   "name": "python3"
  },
  "language_info": {
   "codemirror_mode": {
    "name": "ipython",
    "version": 3
   },
   "file_extension": ".py",
   "mimetype": "text/x-python",
   "name": "python",
   "nbconvert_exporter": "python",
   "pygments_lexer": "ipython3",
   "version": "3.8.3-final"
  }
 },
 "nbformat": 4,
 "nbformat_minor": 2
}