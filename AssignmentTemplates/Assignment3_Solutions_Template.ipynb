{
 "cells": [
  {
   "cell_type": "markdown",
   "metadata": {},
   "source": [
    "# Assignment 3 Solutions"
   ]
  },
  {
   "cell_type": "code",
   "execution_count": 483,
   "metadata": {},
   "outputs": [],
   "source": [
    "import scipy.stats as stats\n",
    "import numpy as np"
   ]
  },
  {
   "cell_type": "markdown",
   "metadata": {},
   "source": [
    "# Question 1\n",
    "\n",
    "Determine the values of the following quantities. (Give answers accurate to 2 decimal places.)\n",
    "\n",
    "(a) t(.10,19)   \n",
    "\n",
    "(b) t(.05,19)      \n",
    "\n",
    "(c) t(.05,29)   \n",
    "\n",
    "(d) t(.05,50)    \n",
    "\n",
    "(e) t(.005,50)   "
   ]
  },
  {
   "cell_type": "markdown",
   "metadata": {},
   "source": [
    "The t-distribution that WebAssign uses is known as a \"one-tailed t-distribution\". Thus, the specified probability ($\\alpha$) lies in a single tail, ABOVE the upper critical t-value.  The \"answer\" that WebAssign is looking for here is the upper critical t-value (which is positive)."
   ]
  },
  {
   "cell_type": "code",
   "execution_count": 484,
   "metadata": {
    "tags": []
   },
   "outputs": [
    {
     "output_type": "stream",
     "name": "stdout",
     "text": "a: 1.670\n"
    }
   ],
   "source": [
    "alpha = .10\n",
    "df = 10\n",
    "cl = 1 - alpha\n",
    "\n",
    "\n",
    "print (\"a: %.3f\" %(T.ppf(1 - alpha / 2)))"
   ]
  },
  {
   "cell_type": "markdown",
   "metadata": {},
   "source": [
    "# Question 2\n",
    "\n",
    "Determine the t critical value(s) that will capture the desired t-curve area in each of the following cases. (Assume that central areas are centered at t = 0. Round your answers to three decimal places.)\n",
    "\n",
    "(a) Central area = 0.95, df = 10\n",
    "\n",
    "(b) Central area = 0.95, df = 30 \n",
    "\n",
    "(c) Central area = 0.99, df = 30\n",
    "\n",
    "(d) Central area = 0.99, df = 60\n",
    "\n",
    "(e) Upper-tail area = 0.01, df = 20\n",
    "\n",
    "(f) Lower-tail area = 0.025, df = 5"
   ]
  },
  {
   "cell_type": "code",
   "execution_count": 485,
   "metadata": {
    "tags": []
   },
   "outputs": [
    {
     "output_type": "stream",
     "name": "stdout",
     "text": "a: 4.604\na: 2.457\na: -2.571\n"
    }
   ],
   "source": [
    "df = 4\n",
    "T = stats.t(df)\n",
    "central_area = .99\n",
    "alpha = 1 - central_area\n",
    "\n",
    "print(\"a: %.3f\" %(T.ppf(1 - alpha / 2)))\n",
    "\n",
    "df = 30\n",
    "T = stats.t(df)\n",
    "lower_area = .99\n",
    "alpha = 1 - lower_area\n",
    "\n",
    "print(\"a: %.3f\" % (T.ppf(1 - alpha)))\n",
    "\n",
    "df = 5\n",
    "T = stats.t(df)\n",
    "lower_area = .025\n",
    "\n",
    "print(\"a: %.3f\" %(T.ppf(lower_area)))"
   ]
  },
  {
   "cell_type": "markdown",
   "metadata": {},
   "source": [
    "# Question 3\n",
    "\n",
    "Determine the t critical value for a two-sided confidence interval in each of the following situations. (Give answers accurate to 3 decimal places.)\n",
    "\n",
    "(a) Confidence level = 95%, df = 17\n",
    "\n",
    "(b) Confidence level = 95%, df = 18\n",
    "\n",
    "(c) Confidence level = 99%, df = 18  \n",
    "\n",
    "(d) Confidence level = 99%, n = 3  \n",
    "\n",
    "(e) Confidence level = 98%, df = 38  \n",
    "\n",
    "(f) Confidence level = 99%, n = 61"
   ]
  },
  {
   "cell_type": "code",
   "execution_count": 486,
   "metadata": {
    "tags": []
   },
   "outputs": [
    {
     "output_type": "stream",
     "name": "stdout",
     "text": "a: 2.365\nb: 2.069\nc: 2.807\nd: 4.604\ne: 4.604\nf: 2.659\n"
    }
   ],
   "source": [
    "df = 7\n",
    "T = stats.t(df)\n",
    "cl = 0.95\n",
    "alpha = 1 - cl\n",
    "\n",
    "print (\"a: %.3f\" %(T.ppf(1 - alpha / 2)))\n",
    "\n",
    "df = 23\n",
    "T = stats.t(df)\n",
    "cl = 0.95\n",
    "alpha = 1 - cl\n",
    "\n",
    "print (\"b: %.3f\" %(T.ppf(1 - alpha / 2)))\n",
    "\n",
    "df = 23\n",
    "T = stats.t(df)\n",
    "cl = 0.99\n",
    "alpha = 1 - cl\n",
    "\n",
    "print (\"c: %.3f\" %(T.ppf(1 - alpha / 2)))\n",
    "\n",
    "df = 4\n",
    "T = stats.t(df)\n",
    "cl = 0.99\n",
    "alpha = 1 - cl\n",
    "\n",
    "print (\"d: %.3f\" %(T.ppf(1 - alpha / 2)))\n",
    "n = 5\n",
    "df = n - 1\n",
    "T = stats.t(df)\n",
    "cl = 0.99\n",
    "alpha = 1 - cl\n",
    "\n",
    "print (\"e: %.3f\" %(T.ppf(1 - alpha / 2)))\n",
    "\n",
    "df = 61\n",
    "T = stats.t(df)\n",
    "cl = 0.99\n",
    "alpha = 1 - cl\n",
    "\n",
    "print (\"f: %.3f\" %(T.ppf(1 - alpha / 2)))"
   ]
  },
  {
   "cell_type": "markdown",
   "metadata": {},
   "source": [
    "# Question 4\n",
    "\n",
    "A random sample of n = 8 E-glass fiber test specimens of a certain type yielded a sample mean interfacial shear yield stress of 32.6 and a sample standard deviation of 3.3. Assuming that interfacial shear yield stress is normally distributed, compute a 95% CI for true average stress. (Give answer accurate to 2 decimal places.) "
   ]
  },
  {
   "cell_type": "code",
   "execution_count": 487,
   "metadata": {
    "tags": []
   },
   "outputs": [
    {
     "output_type": "stream",
     "name": "stdout",
     "text": "(25.19, 32.21)\n(25.19, 32.21)\n"
    }
   ],
   "source": [
    "n = 8\n",
    "df = n - 1\n",
    "xbar = 28.7\n",
    "s = 4.2\n",
    "\n",
    "c1 = 0.95\n",
    "alpha = 1 - c1\n",
    "\n",
    "sem = s/np.sqrt(n)\n",
    "\n",
    "# Find the critical t values\n",
    "thigh = stats.t.ppf(1-alpha/2,df)\n",
    "tlow = stats.t.ppf(alpha/2,df)\n",
    "\n",
    "mu_low = xbar + tlow*sem\n",
    "mu_high = xbar + thigh*sem\n",
    "\n",
    "print (\"(%0.2f, %0.2f)\" % (mu_low, mu_high))\n",
    "\n",
    "c_interval = stats.t.interval(0.95, df, loc=xbar, scale=sem)\n",
    "\n",
    "print (\"(%0.2f, %0.2f)\" % c_interval)\n"
   ]
  },
  {
   "cell_type": "markdown",
   "metadata": {},
   "source": [
    "# Question 5\n",
    "\n",
    "A sample of 14 joint specimens of a particular type gave a sample mean proportional limit stress of 8.06 MPa and a sample standard deviation of 0.66 MPa.\n",
    "\n",
    "(a) Calculate a 95% lower confidence bound for the true average proportional limit stress of all such joints. (Give answer accurate to 2 decimal places.)\n",
    "   \n",
    "\n",
    "(b) Calculate a 95% lower prediction bound for proportional limit stress of a single joint of this type. (Give answer accurate to 2 decimal places.)\n",
    "   "
   ]
  },
  {
   "cell_type": "code",
   "execution_count": 488,
   "metadata": {
    "tags": []
   },
   "outputs": [
    {
     "output_type": "stream",
     "name": "stdout",
     "text": "(8.17, 8.87)\n(7.16, 9.88)\nA: low 8.17 high 8.87\nB: low 7.16 high 9.88)\n"
    }
   ],
   "source": [
    "n = 14\n",
    "df = n - 1\n",
    "xbar = 8.52\n",
    "s = 0.74\n",
    "\n",
    "cl = 0.90\n",
    "\n",
    "sem = s/np.sqrt(n)\n",
    "c_interval = stats.t.interval(cl,df,loc=xbar,scale=sem)\n",
    "print (\"(%0.2f, %0.2f)\" % c_interval)\n",
    "\n",
    "sfu = s*np.sqrt((n+1)/n)\n",
    "c_interval = stats.t.interval(cl,df,loc=xbar,scale=sfu)\n",
    "print (\"(%0.2f, %0.2f)\" % c_interval)\n",
    "\n",
    "cl = 0.90\n",
    "alpha = 1 - cl\n",
    "\n",
    "sem = s/np.sqrt(n)\n",
    "c_interval = stats.t.interval(cl,df,loc=xbar,scale=sem)\n",
    "print (\"A: low %0.2f high %0.2f\" % c_interval)\n",
    "\n",
    "sfu = s*np.sqrt((n+1)/n)\n",
    "c_interval = stats.t.interval(cl,df,loc=xbar,scale=sfu)\n",
    "print (\"B: low %0.2f high %0.2f)\" % c_interval)\n",
    "\n"
   ]
  },
  {
   "cell_type": "markdown",
   "metadata": {},
   "source": [
    "# Question 6\n",
    "\n",
    "Silicone implant augmentation rhinoplasty is used to correct congenital nose deformities. The success of the procedure depends on various biomechanical properties of the human nasal periosteum and fascia. An article reported that for a sample of 12 (newly deceased) adults, the mean failure strain (%) was 23.5, and the standard deviation was 4.3.\n",
    "\n",
    "(a) Assuming a normal distribution for failure strain, estimate true average strain in a way that conveys information about precision and reliability. (Use a 95% confidence interval. Give answer accurate to 1 decimal place.)\n",
    "\n",
    "\n",
    "(b) Predict the strain for a single adult in a way that conveys information about precision and reliability. (Use a 95% prediction interval. Give answer accurate to 1 decimal place.)\n",
    "\n",
    "How does the prediction compare to the estimate calculated in part (a)?"
   ]
  },
  {
   "cell_type": "code",
   "execution_count": 489,
   "metadata": {
    "tags": []
   },
   "outputs": [
    {
     "output_type": "stream",
     "name": "stdout",
     "text": "(21.77, 26.83)\n(13.28, 35.32)\n"
    }
   ],
   "source": [
    "n = 18\n",
    "df = n - 1\n",
    "xbar = 24.3\n",
    "s = 3.7\n",
    "\n",
    "sem = s/np.sqrt(n)\n",
    "\n",
    "cl = 0.99\n",
    "\n",
    "\n",
    "sem = s/np.sqrt(n)\n",
    "c_interval = stats.t.interval(cl,df,loc=xbar,scale=sem)\n",
    "print (\"(%0.2f, %0.2f)\" % c_interval)\n",
    "\n",
    "sfu = s*np.sqrt((n+1)/n)\n",
    "c_interval = stats.t.interval(cl,df,loc=xbar,scale=sfu)\n",
    "print (\"(%0.2f, %0.2f)\" % c_interval)"
   ]
  },
  {
   "cell_type": "markdown",
   "metadata": {},
   "source": [
    "# Question 7\n",
    "Determine the following.\n",
    "(a) The 97.5th percentile of the chi-squared distribution with v = 5. (Give answer accurate to 2 decimal places.)\n",
    "\n",
    "(b) The 1th percentile of the chi-squared distribution with v = 5. (Give answer accurate to 2 decimal places.) \n",
    "\n",
    "(c) P(13.85 <= χ2 <= 42.98), where χ2 is a chi-squared rv with v = 24. (Give answer accurate to 3 decimal places.) \n",
    "\n",
    "(d) P(χ2 < 14.611 or χ2 > 44.314), where χ2 is a chi-squared rv with v = 25. (Give answer accurate to 3 decimal places.)"
   ]
  },
  {
   "cell_type": "code",
   "execution_count": 490,
   "metadata": {
    "tags": []
   },
   "outputs": [
    {
     "output_type": "stream",
     "name": "stdout",
     "text": "15.51\n3.57\n0.850\n0.030\n"
    }
   ],
   "source": [
    "df = 8\n",
    "percentile = 95 * .01\n",
    "\n",
    "print (\"%0.2f\" % (stats.chi2.ppf(percentile, df)))\n",
    "\n",
    "df = 12\n",
    "percentile = 1 * .01\n",
    "\n",
    "print (\"%0.2f\" % (stats.chi2.ppf(percentile, df)))\n",
    "\n",
    "df = 30\n",
    "\n",
    "print (\"%0.3f\" % (stats.chi2.cdf(43.77, df)- stats.chi2.cdf(20.60, df)))\n",
    "\n",
    "df = 30\n",
    "\n",
    "print (\"%0.3f\" % (1 - (stats.chi2.cdf(53.672, df) - stats.chi2.cdf(16.791, df) )))"
   ]
  },
  {
   "cell_type": "markdown",
   "metadata": {},
   "source": [
    "# Question 8\n",
    "\n",
    "The amount of lateral expansion (mils) was determined for a sample of n = 9 pulsed-power gas metal arc welds used in LNG ship containment tanks. The resulting sample standard deviation was s = 2.86 mils. Assuming normality, derive a 95% CI for σ2 and for σ. (Round your answers to two decimal places.) \n",
    "\n",
    "\n",
    "Recall the definition of $\\chi^2 = \\frac{(n-1)s^2}{\\sigma^2}$. Therefore, to find the CI for $\\sigma^2$, we can use that:\n",
    "\n",
    "$\\sigma^2 = \\frac{(n-1)s^2}{\\chi^2}$\n",
    "\n",
    "and thus use the confidence interval for $\\chi^2$."
   ]
  },
  {
   "cell_type": "code",
   "execution_count": 491,
   "metadata": {
    "tags": []
   },
   "outputs": [
    {
     "output_type": "stream",
     "name": "stdout",
     "text": "Chi2 Interval: (1.24, 14.45)\nVariance Interval: (3.30, 38.56)\nStd. Deviation Interval: (1.82, 6.21)\n"
    }
   ],
   "source": [
    "n = 7\n",
    "df = n - 1\n",
    "s = 2.82\n",
    "cl = 0.95\n",
    "\n",
    "c_interval = stats.chi2.interval(cl,df)\n",
    "\n",
    "print(\"Chi2 Interval: (%0.2f, %0.2f)\" % c_interval)\n",
    "\n",
    "var_high = df*s**2/c_interval[0]\n",
    "var_low = df*s**2/c_interval[1]\n",
    "\n",
    "print(\"Variance Interval: (%0.2f, %0.2f)\" % (var_low, var_high))\n",
    "print(\"Std. Deviation Interval: (%0.2f, %0.2f)\" % (np.sqrt(var_low), np.sqrt(var_high)))"
   ]
  },
  {
   "cell_type": "markdown",
   "metadata": {},
   "source": [
    "# Question 9\n",
    "\n",
    "The following observations were made on fracture toughness of a base plate of 18% nickel maraging steel (in ksi √in., given in increasing order)].\n",
    "\n",
    "68.0\t71.9\t72.6\t73.1\t73.3\t73.5\t75.5\t75.7\t75.8\t76.1\t76.2\n",
    "\n",
    "76.2\t77.0\t77.9\t78.1\t79.6\t79.6\t79.9\t80.1\t82.2\t83.7\t90.3\n",
    "\n",
    "Calculate a 99% CI for the standard deviation of the fracture toughness distribution. (Give answer accurate to 2 decimal places.) "
   ]
  },
  {
   "cell_type": "code",
   "execution_count": 492,
   "metadata": {},
   "outputs": [],
   "source": [
    "data = np.array([\n",
    "69.3,\t71.9,\t72.6,\t73.1,\t73.3,\t73.5,\t75.5,\t75.7,\t76.0,\t76.1,\t76.2,\n",
    "76.2,\t77.0,\t77.9,\t78.1,\t79.6,\t79.6,\t79.9,\t80.1,\t82.2,\t83.7,\t90.4\n",
    "])"
   ]
  },
  {
   "cell_type": "code",
   "execution_count": 493,
   "metadata": {
    "tags": []
   },
   "outputs": [
    {
     "output_type": "stream",
     "name": "stdout",
     "text": "77.17727272727274 4.562782340193612\n"
    }
   ],
   "source": [
    "print (data.mean(),data.std(ddof=1))"
   ]
  },
  {
   "cell_type": "code",
   "execution_count": 494,
   "metadata": {
    "tags": []
   },
   "outputs": [
    {
     "output_type": "stream",
     "name": "stdout",
     "text": "Chi2 Interval: (8.03, 41.40)\nStd. Deviation Interval: (3.25, 7.38)\n"
    }
   ],
   "source": [
    "n = len(data)\n",
    "df = n - 1\n",
    "s = data.std(ddof=1)\n",
    "cl = 0.99\n",
    "\n",
    "c_interval = stats.chi2.interval(cl,df)\n",
    "\n",
    "print(\"Chi2 Interval: (%0.2f, %0.2f)\" % c_interval)\n",
    "\n",
    "var_high = df*s**2/c_interval[0]\n",
    "var_low = df*s**2/c_interval[1]\n",
    "\n",
    "print(\"Std. Deviation Interval: (%0.2f, %0.2f)\" % (np.sqrt(var_low), np.sqrt(var_high)))"
   ]
  },
  {
   "cell_type": "markdown",
   "metadata": {},
   "source": [
    "# Question 10\n",
    "\n",
    "On the basis of extensive tests, the yield point of a particular type of mild steel-reinforcing bar is known to be normally distributed with σ = 100. The composition of the bar has been slightly modified, but the modification is not believed to have affected either the normality or the value of σ.\n",
    "\n",
    "(a) Assuming this to be the case, if a sample of 25 modified bars resulted in a sample average yield point of 8312 lb, compute a 90% CI for the true average yield point of the modified bar. (Round to the nearest integer.)\n",
    "\n",
    "(b) How would you modify the interval in part (a) to obtain a confidence level of 92%? (Give answer accurate to 2 decimal places.)"
   ]
  },
  {
   "cell_type": "code",
   "execution_count": 495,
   "metadata": {
    "tags": []
   },
   "outputs": [
    {
     "output_type": "stream",
     "name": "stdout",
     "text": "z Interval: (-1.64, 1.64)\nConfidence Interval of the Mean: (8919, 8985)\nz Interval: (-2.05, 2.05)\nConfidence Interval of the Mean: (8911, 8993)\n"
    }
   ],
   "source": [
    "n = 25\n",
    "sigma = 100\n",
    "xbar = 8952\n",
    "\n",
    "cl = 0.90\n",
    "\n",
    "sem = sigma/np.sqrt(n)\n",
    "\n",
    "c_interval = stats.norm.interval(cl, loc=0,scale=1)\n",
    "print(\"z Interval: (%0.2f, %0.2f)\" % c_interval)\n",
    "\n",
    "c_interval = stats.norm.interval(cl, loc=xbar,scale=sem)\n",
    "print(\"Confidence Interval of the Mean: (%0.0f, %0.0f)\" % c_interval)\n",
    "\n",
    "cl = 0.96\n",
    "\n",
    "c_interval = stats.norm.interval(cl, loc=0,scale=1)\n",
    "print(\"z Interval: (%0.2f, %0.2f)\" % c_interval)\n",
    "\n",
    "c_interval = stats.norm.interval(cl, loc=xbar,scale=sem)\n",
    "print(\"Confidence Interval of the Mean: (%0.0f, %0.0f)\" % c_interval)"
   ]
  },
  {
   "cell_type": "code",
   "execution_count": null,
   "metadata": {},
   "outputs": [],
   "source": []
  }
 ],
 "metadata": {
  "kernelspec": {
   "display_name": "Python 3",
   "language": "python",
   "name": "python3"
  },
  "language_info": {
   "codemirror_mode": {
    "name": "ipython",
    "version": 3
   },
   "file_extension": ".py",
   "mimetype": "text/x-python",
   "name": "python",
   "nbconvert_exporter": "python",
   "pygments_lexer": "ipython3",
   "version": "3.8.3-final"
  }
 },
 "nbformat": 4,
 "nbformat_minor": 2
}